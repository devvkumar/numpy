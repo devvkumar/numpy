{
 "cells": [
  {
   "cell_type": "markdown",
   "id": "7d98a419",
   "metadata": {},
   "source": [
    "# Numpy"
   ]
  },
  {
   "cell_type": "markdown",
   "id": "aae88743",
   "metadata": {},
   "source": [
    "## 1D Array"
   ]
  },
  {
   "cell_type": "code",
   "execution_count": 6,
   "id": "6f281459",
   "metadata": {},
   "outputs": [],
   "source": [
    "import numpy"
   ]
  },
  {
   "cell_type": "code",
   "execution_count": 34,
   "id": "74d9beba",
   "metadata": {},
   "outputs": [
    {
     "name": "stdout",
     "output_type": "stream",
     "text": [
      "the Array is  ['1' '2' '3' '4' '5'] <class 'numpy.ndarray'>\n"
     ]
    }
   ],
   "source": [
    "myArray1=numpy.array([1,2,3,4,5],dtype=str)\n",
    "print(\"the Array is \", myArray1, type(myArray1))"
   ]
  },
  {
   "cell_type": "markdown",
   "id": "42ce5064",
   "metadata": {},
   "source": [
    "### Copy Array"
   ]
  },
  {
   "cell_type": "code",
   "execution_count": 32,
   "id": "4082b2e3",
   "metadata": {},
   "outputs": [],
   "source": [
    "myArray2=myArray1.copy()"
   ]
  },
  {
   "cell_type": "markdown",
   "id": "1d948afa",
   "metadata": {},
   "source": [
    "### View Array"
   ]
  },
  {
   "cell_type": "code",
   "execution_count": 33,
   "id": "20d43317",
   "metadata": {},
   "outputs": [
    {
     "data": {
      "text/plain": [
       "array(['1', '2', '3', '4', '5'], dtype='<U1')"
      ]
     },
     "execution_count": 33,
     "metadata": {},
     "output_type": "execute_result"
    }
   ],
   "source": [
    "myArray2.view()"
   ]
  },
  {
   "cell_type": "markdown",
   "id": "9d7b470a",
   "metadata": {},
   "source": [
    "### Arange funtion helps to create arrays with regular increment values from start to end"
   ]
  },
  {
   "cell_type": "code",
   "execution_count": 39,
   "id": "a003afdd",
   "metadata": {},
   "outputs": [
    {
     "name": "stdout",
     "output_type": "stream",
     "text": [
      "[ 0  1  2  3  4  5  6  7  8  9 10 11 12 13]\n"
     ]
    }
   ],
   "source": [
    "test1 = numpy.arange(14)\n",
    "print(testArray)"
   ]
  },
  {
   "cell_type": "markdown",
   "id": "291f5cd7",
   "metadata": {},
   "source": [
    "### Linscace function will create array with a specified number of element acc to the specified number of element according to the specified size"
   ]
  },
  {
   "cell_type": "code",
   "execution_count": 50,
   "id": "bbfcc287",
   "metadata": {},
   "outputs": [
    {
     "name": "stdout",
     "output_type": "stream",
     "text": [
      "[12.  12.5 13.  13.5 14. ]\n"
     ]
    }
   ],
   "source": [
    "test2 = numpy.linspace(12,14,5)\n",
    "print(test2)"
   ]
  },
  {
   "cell_type": "markdown",
   "id": "46f37310",
   "metadata": {},
   "source": [
    "### zeros(shapes) funtion will create an array of the specified shape filled with value '0'. The default size is float64"
   ]
  },
  {
   "cell_type": "code",
   "execution_count": 53,
   "id": "e5b79a11",
   "metadata": {},
   "outputs": [
    {
     "name": "stdout",
     "output_type": "stream",
     "text": [
      "[0. 0. 0. 0.]\n",
      "[0. 0. 0. 0.]\n"
     ]
    }
   ],
   "source": [
    "test3 = numpy.zeros(4)\n",
    "print(test3)\n",
    "test4 = numpy.zeros((4))\n",
    "print(test4)"
   ]
  },
  {
   "cell_type": "markdown",
   "id": "93f0dcc9",
   "metadata": {},
   "source": [
    "### ones(shapes) funtion will create an array of specified shape filled with value '1'"
   ]
  },
  {
   "cell_type": "code",
   "execution_count": 56,
   "id": "0614ef21",
   "metadata": {},
   "outputs": [
    {
     "name": "stdout",
     "output_type": "stream",
     "text": [
      "[1. 1. 1. 1. 1.]\n"
     ]
    }
   ],
   "source": [
    "test5 = numpy.ones(5)\n",
    "print(test5)"
   ]
  },
  {
   "cell_type": "markdown",
   "id": "881baa31",
   "metadata": {},
   "source": [
    "## Funtions for 1D Array"
   ]
  },
  {
   "cell_type": "code",
   "execution_count": 58,
   "id": "2ff46312",
   "metadata": {},
   "outputs": [
    {
     "name": "stdout",
     "output_type": "stream",
     "text": [
      "[13 24 22 13 11 28 16 24 18]\n"
     ]
    }
   ],
   "source": [
    "Arr = numpy.array([13,24,22,13,11,28,16,24,18])\n",
    "print(Arr)"
   ]
  },
  {
   "cell_type": "markdown",
   "id": "6a536979",
   "metadata": {},
   "source": [
    "### 1.  Modify"
   ]
  },
  {
   "cell_type": "code",
   "execution_count": 60,
   "id": "8876ef1a",
   "metadata": {},
   "outputs": [
    {
     "name": "stdout",
     "output_type": "stream",
     "text": [
      "[13 24 22 45 11 28 16 24 18]\n"
     ]
    }
   ],
   "source": [
    "Arr[3]=45\n",
    "print(Arr)"
   ]
  },
  {
   "cell_type": "markdown",
   "id": "68029faf",
   "metadata": {},
   "source": [
    "### 2. Size"
   ]
  },
  {
   "cell_type": "code",
   "execution_count": 62,
   "id": "f9ebcb45",
   "metadata": {},
   "outputs": [
    {
     "name": "stdout",
     "output_type": "stream",
     "text": [
      "9\n"
     ]
    }
   ],
   "source": [
    "print(Arr.size)"
   ]
  },
  {
   "cell_type": "markdown",
   "id": "7856a370",
   "metadata": {},
   "source": [
    "### 3. dtype "
   ]
  },
  {
   "cell_type": "code",
   "execution_count": 63,
   "id": "a9995c0e",
   "metadata": {},
   "outputs": [
    {
     "name": "stdout",
     "output_type": "stream",
     "text": [
      "int32\n"
     ]
    }
   ],
   "source": [
    "print(Arr.dtype)"
   ]
  },
  {
   "cell_type": "markdown",
   "id": "293d5117",
   "metadata": {},
   "source": [
    "### 4. Mean"
   ]
  },
  {
   "cell_type": "code",
   "execution_count": 66,
   "id": "d2ce0d26",
   "metadata": {},
   "outputs": [
    {
     "name": "stdout",
     "output_type": "stream",
     "text": [
      "22.333333333333332\n"
     ]
    }
   ],
   "source": [
    "print(numpy.mean(Arr))"
   ]
  },
  {
   "cell_type": "markdown",
   "id": "c88dee76",
   "metadata": {},
   "source": [
    "### 5. Median"
   ]
  },
  {
   "cell_type": "code",
   "execution_count": 67,
   "id": "0f03625c",
   "metadata": {},
   "outputs": [
    {
     "name": "stdout",
     "output_type": "stream",
     "text": [
      "22.0\n"
     ]
    }
   ],
   "source": [
    "print(numpy.median(Arr))"
   ]
  },
  {
   "cell_type": "markdown",
   "id": "54af8387",
   "metadata": {},
   "source": [
    "### 6. Min"
   ]
  },
  {
   "cell_type": "code",
   "execution_count": 68,
   "id": "4adc97bf",
   "metadata": {},
   "outputs": [
    {
     "name": "stdout",
     "output_type": "stream",
     "text": [
      "11\n"
     ]
    }
   ],
   "source": [
    "print(numpy.min(Arr))"
   ]
  },
  {
   "cell_type": "markdown",
   "id": "f70e635a",
   "metadata": {},
   "source": [
    "### 7.  Max"
   ]
  },
  {
   "cell_type": "code",
   "execution_count": 69,
   "id": "86a1b4c8",
   "metadata": {},
   "outputs": [
    {
     "name": "stdout",
     "output_type": "stream",
     "text": [
      "45\n"
     ]
    }
   ],
   "source": [
    "print(numpy.max(Arr))"
   ]
  },
  {
   "cell_type": "markdown",
   "id": "cbdb958d",
   "metadata": {},
   "source": [
    "### 8. Sum"
   ]
  },
  {
   "cell_type": "code",
   "execution_count": 71,
   "id": "1c3eda56",
   "metadata": {},
   "outputs": [
    {
     "name": "stdout",
     "output_type": "stream",
     "text": [
      "201\n"
     ]
    }
   ],
   "source": [
    "print(numpy.sum(Arr))"
   ]
  },
  {
   "cell_type": "markdown",
   "id": "f54f7309",
   "metadata": {},
   "source": [
    "###  9. prod returns Product of all the element"
   ]
  },
  {
   "cell_type": "code",
   "execution_count": 72,
   "id": "1c926238",
   "metadata": {},
   "outputs": [
    {
     "name": "stdout",
     "output_type": "stream",
     "text": [
      "443400192\n"
     ]
    }
   ],
   "source": [
    "print(numpy.prod(Arr))"
   ]
  },
  {
   "cell_type": "markdown",
   "id": "a2d30402",
   "metadata": {},
   "source": [
    "### 10. cov returns the covariance of all array element"
   ]
  },
  {
   "cell_type": "code",
   "execution_count": 73,
   "id": "771bac7a",
   "metadata": {},
   "outputs": [
    {
     "name": "stdout",
     "output_type": "stream",
     "text": [
      "103.25\n"
     ]
    }
   ],
   "source": [
    "print(numpy.cov(Arr))"
   ]
  },
  {
   "cell_type": "markdown",
   "id": "0c4b7331",
   "metadata": {},
   "source": [
    "### 11. var function returns the variance of all array element"
   ]
  },
  {
   "cell_type": "code",
   "execution_count": 74,
   "id": "cae4b850",
   "metadata": {},
   "outputs": [
    {
     "name": "stdout",
     "output_type": "stream",
     "text": [
      "91.77777777777777\n"
     ]
    }
   ],
   "source": [
    "print(numpy.var(Arr))"
   ]
  },
  {
   "cell_type": "markdown",
   "id": "11757db4",
   "metadata": {},
   "source": [
    "### 12. std returns Standard Deviation of all array element"
   ]
  },
  {
   "cell_type": "code",
   "execution_count": 75,
   "id": "3e6ece35",
   "metadata": {},
   "outputs": [
    {
     "name": "stdout",
     "output_type": "stream",
     "text": [
      "9.580071908799942\n"
     ]
    }
   ],
   "source": [
    "print(numpy.std(Arr))"
   ]
  },
  {
   "cell_type": "markdown",
   "id": "8769689e",
   "metadata": {},
   "source": [
    "### 13. sort returns the elements in a sorted array"
   ]
  },
  {
   "cell_type": "code",
   "execution_count": 76,
   "id": "1335f595",
   "metadata": {},
   "outputs": [
    {
     "name": "stdout",
     "output_type": "stream",
     "text": [
      "[11 13 16 18 22 24 24 28 45]\n"
     ]
    }
   ],
   "source": [
    "print(numpy.sort(Arr))"
   ]
  },
  {
   "cell_type": "markdown",
   "id": "c14be78a",
   "metadata": {},
   "source": [
    "### 14. power returns all elements raised to the power of a number"
   ]
  },
  {
   "cell_type": "code",
   "execution_count": 78,
   "id": "504dfe32",
   "metadata": {},
   "outputs": [
    {
     "name": "stdout",
     "output_type": "stream",
     "text": [
      "[ 2197 13824 10648 91125  1331 21952  4096 13824  5832]\n"
     ]
    }
   ],
   "source": [
    "print(numpy.power(Arr,3))"
   ]
  },
  {
   "cell_type": "markdown",
   "id": "c68de747",
   "metadata": {},
   "source": [
    "### 15. sqrt returns the square root of all the element "
   ]
  },
  {
   "cell_type": "code",
   "execution_count": 79,
   "id": "fb3c84c2",
   "metadata": {},
   "outputs": [
    {
     "name": "stdout",
     "output_type": "stream",
     "text": [
      "[3.60555128 4.89897949 4.69041576 6.70820393 3.31662479 5.29150262\n",
      " 4.         4.89897949 4.24264069]\n"
     ]
    }
   ],
   "source": [
    "print(numpy.sqrt(Arr))"
   ]
  },
  {
   "cell_type": "markdown",
   "id": "6512c87f",
   "metadata": {},
   "source": [
    "### 16. abs returns the absolute values of all the element "
   ]
  },
  {
   "cell_type": "code",
   "execution_count": 80,
   "id": "b2ab29b3",
   "metadata": {},
   "outputs": [
    {
     "name": "stdout",
     "output_type": "stream",
     "text": [
      "[13 24 22 45 11 28 16 24 18]\n"
     ]
    }
   ],
   "source": [
    "print(numpy.abs(Arr))"
   ]
  },
  {
   "cell_type": "markdown",
   "id": "4bf67ee5",
   "metadata": {},
   "source": [
    "### 17. sin returns the sine values of all the element"
   ]
  },
  {
   "cell_type": "code",
   "execution_count": 81,
   "id": "474776e2",
   "metadata": {},
   "outputs": [
    {
     "name": "stdout",
     "output_type": "stream",
     "text": [
      "[ 0.42016704 -0.90557836 -0.00885131  0.85090352 -0.99999021  0.27090579\n",
      " -0.28790332 -0.90557836 -0.75098725]\n"
     ]
    }
   ],
   "source": [
    "print(numpy.sin(Arr))"
   ]
  },
  {
   "cell_type": "markdown",
   "id": "8920b27a",
   "metadata": {},
   "source": [
    "### 18. cos returns the cos values of all the element "
   ]
  },
  {
   "cell_type": "code",
   "execution_count": 82,
   "id": "7115247a",
   "metadata": {},
   "outputs": [
    {
     "name": "stdout",
     "output_type": "stream",
     "text": [
      "[ 0.90744678  0.42417901 -0.99996083  0.52532199  0.0044257  -0.96260587\n",
      " -0.95765948  0.42417901  0.66031671]\n"
     ]
    }
   ],
   "source": [
    "print(numpy.cos(Arr))"
   ]
  },
  {
   "cell_type": "markdown",
   "id": "384aabd5",
   "metadata": {},
   "source": [
    "### 19. tan returns the tan values of all the element"
   ]
  },
  {
   "cell_type": "code",
   "execution_count": 83,
   "id": "69e9cd64",
   "metadata": {},
   "outputs": [
    {
     "name": "stdout",
     "output_type": "stream",
     "text": [
      "[ 4.63021133e-01 -2.13489670e+00  8.85165604e-03  1.61977519e+00\n",
      " -2.25950846e+02 -2.81429605e-01  3.00632242e-01 -2.13489670e+00\n",
      " -1.13731371e+00]\n"
     ]
    }
   ],
   "source": [
    "print(numpy.tan(Arr))"
   ]
  },
  {
   "cell_type": "markdown",
   "id": "c04d4db3",
   "metadata": {},
   "source": [
    "### 20. log reuturns the log with exponantial base of all element"
   ]
  },
  {
   "cell_type": "code",
   "execution_count": 84,
   "id": "d0b5fba1",
   "metadata": {},
   "outputs": [
    {
     "name": "stdout",
     "output_type": "stream",
     "text": [
      "[2.56494936 3.17805383 3.09104245 3.80666249 2.39789527 3.33220451\n",
      " 2.77258872 3.17805383 2.89037176]\n"
     ]
    }
   ],
   "source": [
    "print(numpy.log(Arr))"
   ]
  },
  {
   "cell_type": "markdown",
   "id": "4972898e",
   "metadata": {},
   "source": [
    "### 21. log10 returns the log with base 10 of all the elements"
   ]
  },
  {
   "cell_type": "code",
   "execution_count": 85,
   "id": "219718c7",
   "metadata": {},
   "outputs": [
    {
     "name": "stdout",
     "output_type": "stream",
     "text": [
      "[1.11394335 1.38021124 1.34242268 1.65321251 1.04139269 1.44715803\n",
      " 1.20411998 1.38021124 1.25527251]\n"
     ]
    }
   ],
   "source": [
    "print(numpy.log10(Arr))"
   ]
  },
  {
   "cell_type": "markdown",
   "id": "8c45e149",
   "metadata": {},
   "source": [
    "### 22. exp returns the exponential of all the elements"
   ]
  },
  {
   "cell_type": "code",
   "execution_count": 86,
   "id": "2725c7e1",
   "metadata": {},
   "outputs": [
    {
     "name": "stdout",
     "output_type": "stream",
     "text": [
      "[4.42413392e+05 2.64891221e+10 3.58491285e+09 3.49342711e+19\n",
      " 5.98741417e+04 1.44625706e+12 8.88611052e+06 2.64891221e+10\n",
      " 6.56599691e+07]\n"
     ]
    }
   ],
   "source": [
    "print(numpy.exp(Arr))"
   ]
  },
  {
   "cell_type": "markdown",
   "id": "41c7ed26",
   "metadata": {},
   "source": [
    "## Multidimensional Array"
   ]
  },
  {
   "cell_type": "code",
   "execution_count": 87,
   "id": "2a778faa",
   "metadata": {},
   "outputs": [],
   "source": [
    "import numpy as np"
   ]
  },
  {
   "cell_type": "markdown",
   "id": "0edb7d5f",
   "metadata": {},
   "source": [
    "### 1. creating 2D Array using array function"
   ]
  },
  {
   "cell_type": "code",
   "execution_count": 88,
   "id": "b40465d0",
   "metadata": {},
   "outputs": [
    {
     "name": "stdout",
     "output_type": "stream",
     "text": [
      "[[100 200 300 400]\n",
      " [600 700 800 900]]\n"
     ]
    }
   ],
   "source": [
    "arr1 = np.array([[100,200,300,400],[600,700,800,900]])\n",
    "print(arr1)"
   ]
  },
  {
   "cell_type": "markdown",
   "id": "9aabd00e",
   "metadata": {},
   "source": [
    "### 2. Creating 2D Array using matrix function"
   ]
  },
  {
   "cell_type": "code",
   "execution_count": 89,
   "id": "aaba1ac7",
   "metadata": {},
   "outputs": [
    {
     "name": "stdout",
     "output_type": "stream",
     "text": [
      "[[11 22]\n",
      " [33 44]\n",
      " [55 66]]\n"
     ]
    }
   ],
   "source": [
    "arr2 = np.matrix('11,22;33,44;55,66')\n",
    "print(arr2)"
   ]
  },
  {
   "cell_type": "markdown",
   "id": "a188e3f1",
   "metadata": {},
   "source": [
    "### 3. Creating 2D Array using reshape function"
   ]
  },
  {
   "cell_type": "code",
   "execution_count": 95,
   "id": "482f74e0",
   "metadata": {},
   "outputs": [
    {
     "name": "stdout",
     "output_type": "stream",
     "text": [
      "[[10 20]\n",
      " [30 40]\n",
      " [50 60]]\n"
     ]
    }
   ],
   "source": [
    "arr3=np.array([10,20,30,40,50,60])\n",
    "newarr = np.reshape(arr3,(3,2))\n",
    "print(newarr)"
   ]
  },
  {
   "cell_type": "markdown",
   "id": "f5559eac",
   "metadata": {},
   "source": [
    "### 4. Creating 2D array using zeros function"
   ]
  },
  {
   "cell_type": "code",
   "execution_count": 101,
   "id": "48176f50",
   "metadata": {},
   "outputs": [
    {
     "name": "stdout",
     "output_type": "stream",
     "text": [
      "[[0. 0.]\n",
      " [0. 0.]\n",
      " [0. 0.]\n",
      " [0. 0.]]\n"
     ]
    }
   ],
   "source": [
    "arr4 = np.zeros((4,2))\n",
    "print(arr4)"
   ]
  },
  {
   "cell_type": "markdown",
   "id": "0848fcc4",
   "metadata": {},
   "source": [
    "### 5. Creating 2D array using ones funtion"
   ]
  },
  {
   "cell_type": "code",
   "execution_count": 102,
   "id": "0aea948b",
   "metadata": {},
   "outputs": [
    {
     "name": "stdout",
     "output_type": "stream",
     "text": [
      "[[1. 1.]\n",
      " [1. 1.]\n",
      " [1. 1.]\n",
      " [1. 1.]]\n"
     ]
    }
   ],
   "source": [
    "arr5 = np.ones((4,2))\n",
    "print(arr5)"
   ]
  },
  {
   "cell_type": "markdown",
   "id": "c3c30cc8",
   "metadata": {},
   "source": [
    "### 6. Transpose funtion rerturns the transpose of a matrix"
   ]
  },
  {
   "cell_type": "code",
   "execution_count": 105,
   "id": "08b02cc8",
   "metadata": {},
   "outputs": [
    {
     "name": "stdout",
     "output_type": "stream",
     "text": [
      "[[10 40 50 40]\n",
      " [60 50 60 50]\n",
      " [40 30 40 20]]\n"
     ]
    }
   ],
   "source": [
    "arr6=np.array([[10,60,40],[40,50,30],[50,60,40],[40,50,20]])\n",
    "print(np.transpose(arr6))"
   ]
  },
  {
   "cell_type": "markdown",
   "id": "0db670e0",
   "metadata": {},
   "source": [
    "### 7. ndim determines the dimension of the array"
   ]
  },
  {
   "cell_type": "code",
   "execution_count": 106,
   "id": "5618e2ca",
   "metadata": {},
   "outputs": [
    {
     "name": "stdout",
     "output_type": "stream",
     "text": [
      "2\n"
     ]
    }
   ],
   "source": [
    "print(numpy.ndim(arr6))"
   ]
  },
  {
   "cell_type": "markdown",
   "id": "74010c55",
   "metadata": {},
   "source": [
    "### 8. shape determines shape of the array"
   ]
  },
  {
   "cell_type": "code",
   "execution_count": 107,
   "id": "1e59b3d0",
   "metadata": {},
   "outputs": [
    {
     "name": "stdout",
     "output_type": "stream",
     "text": [
      "(4, 3)\n"
     ]
    }
   ],
   "source": [
    "print(numpy.shape(arr6))"
   ]
  },
  {
   "cell_type": "markdown",
   "id": "33ba8af4",
   "metadata": {},
   "source": [
    "### 9. flatten used to flattens matrix and convert one dimension array"
   ]
  },
  {
   "cell_type": "code",
   "execution_count": 110,
   "id": "29e09888",
   "metadata": {},
   "outputs": [
    {
     "name": "stdout",
     "output_type": "stream",
     "text": [
      "[10 60 40 40 50 30 50 60 40 40 50 20]\n"
     ]
    }
   ],
   "source": [
    "print(arr6.flatten())"
   ]
  },
  {
   "cell_type": "markdown",
   "id": "80d87bf9",
   "metadata": {},
   "source": [
    "### 10. sort() sort the matrix on column basis"
   ]
  },
  {
   "cell_type": "code",
   "execution_count": 111,
   "id": "6dd98751",
   "metadata": {},
   "outputs": [
    {
     "name": "stdout",
     "output_type": "stream",
     "text": [
      "[[10 40 60]\n",
      " [30 40 50]\n",
      " [40 50 60]\n",
      " [20 40 50]]\n"
     ]
    }
   ],
   "source": [
    "print(numpy.sort(arr6))"
   ]
  },
  {
   "cell_type": "markdown",
   "id": "c0d28926",
   "metadata": {},
   "source": [
    "### 11. sort() sort the matrix on row basis"
   ]
  },
  {
   "cell_type": "code",
   "execution_count": 112,
   "id": "104d4671",
   "metadata": {},
   "outputs": [
    {
     "name": "stdout",
     "output_type": "stream",
     "text": [
      "[[10 50 20]\n",
      " [40 50 30]\n",
      " [40 60 40]\n",
      " [50 60 40]]\n"
     ]
    }
   ],
   "source": [
    "print(numpy.sort(arr6, axis = 0))"
   ]
  },
  {
   "cell_type": "markdown",
   "id": "63e57edf",
   "metadata": {},
   "source": [
    "### 12. diagonal function is help to determine the diagonal elements"
   ]
  },
  {
   "cell_type": "code",
   "execution_count": 114,
   "id": "4f4efcce",
   "metadata": {},
   "outputs": [
    {
     "name": "stdout",
     "output_type": "stream",
     "text": [
      "[10 50 40]\n"
     ]
    }
   ],
   "source": [
    "print(numpy.diagonal(arr6))"
   ]
  },
  {
   "cell_type": "markdown",
   "id": "05107b58",
   "metadata": {},
   "source": [
    "# *** Thank You ***"
   ]
  }
 ],
 "metadata": {
  "kernelspec": {
   "display_name": "Python 3 (ipykernel)",
   "language": "python",
   "name": "python3"
  },
  "language_info": {
   "codemirror_mode": {
    "name": "ipython",
    "version": 3
   },
   "file_extension": ".py",
   "mimetype": "text/x-python",
   "name": "python",
   "nbconvert_exporter": "python",
   "pygments_lexer": "ipython3",
   "version": "3.10.9"
  }
 },
 "nbformat": 4,
 "nbformat_minor": 5
}
